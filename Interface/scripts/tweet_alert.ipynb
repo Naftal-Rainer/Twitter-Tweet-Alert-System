{
 "cells": [
  {
   "cell_type": "code",
   "execution_count": 1,
   "metadata": {},
   "outputs": [],
   "source": [
    "import pandas as pd\n",
    "import advertools as adv\n",
    "import yagmail\n",
    "from datetime import date\n",
    "import requests\n",
    "import configparser"
   ]
  },
  {
   "cell_type": "code",
   "execution_count": 14,
   "metadata": {},
   "outputs": [],
   "source": [
    "# Read configs\n",
    "\n",
    "config = configparser.ConfigParser()\n",
    "config.read('config.ini')\n",
    "\n",
    "auth_params = {\n",
    "    'app_key': config['twitter']['API_Key'],\n",
    "    'app_secret': config['twitter']['API_Key_Secret'],\n",
    "    'oauth_token': config['twitter']['Access_Tocken'],\n",
    "    'oauth_token_secret': config['twitter']['Access_Tocken_Secret'],\n",
    "}"
   ]
  },
  {
   "cell_type": "code",
   "execution_count": 15,
   "metadata": {},
   "outputs": [
    {
     "name": "stderr",
     "output_type": "stream",
     "text": [
      "2022-11-01 16:11:11,624 | INFO | twitter.py:246 | wrapper | search | Requesting: count=100, max_id=None, q=#confirmed, tweet_mode=extended, lang=en\n"
     ]
    },
    {
     "ename": "TwythonAuthError",
     "evalue": "Twitter API returned a 400 (Bad Request), Bad Authentication data.",
     "output_type": "error",
     "traceback": [
      "\u001b[1;31m---------------------------------------------------------------------------\u001b[0m",
      "\u001b[1;31mTwythonAuthError\u001b[0m                          Traceback (most recent call last)",
      "\u001b[1;32mc:\\Users\\user\\Documents\\Personal\\Twitter-Tweet-Alert-System\\tweet_alert.ipynb Cell 3\u001b[0m in \u001b[0;36m<cell line: 1>\u001b[1;34m()\u001b[0m\n\u001b[1;32m----> <a href='vscode-notebook-cell:/c%3A/Users/user/Documents/Personal/Twitter-Tweet-Alert-System/tweet_alert.ipynb#X15sZmlsZQ%3D%3D?line=0'>1</a>\u001b[0m tw \u001b[39m=\u001b[39m adv\u001b[39m.\u001b[39;49mtwitter\u001b[39m.\u001b[39;49msearch(q\u001b[39m=\u001b[39;49m\u001b[39m'\u001b[39;49m\u001b[39m#confirmed\u001b[39;49m\u001b[39m'\u001b[39;49m, count \u001b[39m=\u001b[39;49m \u001b[39m100\u001b[39;49m, tweet_mode\u001b[39m=\u001b[39;49m\u001b[39m'\u001b[39;49m\u001b[39mextended\u001b[39;49m\u001b[39m'\u001b[39;49m,lang\u001b[39m=\u001b[39;49m\u001b[39m'\u001b[39;49m\u001b[39men\u001b[39;49m\u001b[39m'\u001b[39;49m)\n",
      "File \u001b[1;32mc:\\Users\\user\\anaconda3\\lib\\site-packages\\advertools\\twitter.py:250\u001b[0m, in \u001b[0;36mmake_dataframe.<locals>.wrapper\u001b[1;34m(count, max_id, *args, **kwargs)\u001b[0m\n\u001b[0;32m    245\u001b[0m     args_log \u001b[39m=\u001b[39m \u001b[39m'\u001b[39m\u001b[39m, \u001b[39m\u001b[39m'\u001b[39m\u001b[39m.\u001b[39mjoin(args)\n\u001b[0;32m    246\u001b[0m     logging\u001b[39m.\u001b[39minfo(msg\u001b[39m=\u001b[39mfname \u001b[39m+\u001b[39m \u001b[39m'\u001b[39m\u001b[39m | \u001b[39m\u001b[39m'\u001b[39m \u001b[39m+\u001b[39m \u001b[39m'\u001b[39m\u001b[39mRequesting: \u001b[39m\u001b[39m'\u001b[39m \u001b[39m+\u001b[39m\n\u001b[0;32m    247\u001b[0m                  \u001b[39m'\u001b[39m\u001b[39mcount=\u001b[39m\u001b[39m'\u001b[39m \u001b[39m+\u001b[39m \u001b[39mstr\u001b[39m(count) \u001b[39m+\u001b[39m \u001b[39m'\u001b[39m\u001b[39m, max_id=\u001b[39m\u001b[39m'\u001b[39m \u001b[39m+\u001b[39m\n\u001b[0;32m    248\u001b[0m                  \u001b[39mstr\u001b[39m(max_id) \u001b[39m+\u001b[39m \u001b[39m'\u001b[39m\u001b[39m, \u001b[39m\u001b[39m'\u001b[39m \u001b[39m+\u001b[39m kwargs_log \u001b[39m+\u001b[39m args_log)\n\u001b[1;32m--> 250\u001b[0m     resp \u001b[39m=\u001b[39m func(count\u001b[39m=\u001b[39mcount,\n\u001b[0;32m    251\u001b[0m                 max_id\u001b[39m=\u001b[39mmax_id,\n\u001b[0;32m    252\u001b[0m                 cursor\u001b[39m=\u001b[39mcursor,\n\u001b[0;32m    253\u001b[0m                 \u001b[39m*\u001b[39margs, \u001b[39m*\u001b[39m\u001b[39m*\u001b[39mkwargs)\n\u001b[0;32m    254\u001b[0m     responses\u001b[39m.\u001b[39mappend(resp)\n\u001b[0;32m    256\u001b[0m \u001b[39mif\u001b[39;00m \u001b[39m'\u001b[39m\u001b[39m_ids\u001b[39m\u001b[39m'\u001b[39m \u001b[39min\u001b[39;00m fname:\n",
      "File \u001b[1;32mc:\\Users\\user\\anaconda3\\lib\\site-packages\\twython\\endpoints.py:293\u001b[0m, in \u001b[0;36mEndpointsMixin.search\u001b[1;34m(self, **params)\u001b[0m\n\u001b[0;32m    286\u001b[0m \u001b[39mdef\u001b[39;00m \u001b[39msearch\u001b[39m(\u001b[39mself\u001b[39m, \u001b[39m*\u001b[39m\u001b[39m*\u001b[39mparams):\n\u001b[0;32m    287\u001b[0m     \u001b[39m\"\"\"Returns a collection of relevant Tweets matching a specified query.\u001b[39;00m\n\u001b[0;32m    288\u001b[0m \n\u001b[0;32m    289\u001b[0m \u001b[39m    Docs:\u001b[39;00m\n\u001b[0;32m    290\u001b[0m \u001b[39m    https://developer.twitter.com/en/docs/tweets/search/api-reference/get-search-tweets\u001b[39;00m\n\u001b[0;32m    291\u001b[0m \n\u001b[0;32m    292\u001b[0m \u001b[39m    \"\"\"\u001b[39;00m\n\u001b[1;32m--> 293\u001b[0m     \u001b[39mreturn\u001b[39;00m \u001b[39mself\u001b[39;49m\u001b[39m.\u001b[39;49mget(\u001b[39m'\u001b[39;49m\u001b[39msearch/tweets\u001b[39;49m\u001b[39m'\u001b[39;49m, params\u001b[39m=\u001b[39;49mparams)\n",
      "File \u001b[1;32mc:\\Users\\user\\anaconda3\\lib\\site-packages\\twython\\api.py:279\u001b[0m, in \u001b[0;36mTwython.get\u001b[1;34m(self, endpoint, params, version)\u001b[0m\n\u001b[0;32m    277\u001b[0m \u001b[39mdef\u001b[39;00m \u001b[39mget\u001b[39m(\u001b[39mself\u001b[39m, endpoint, params\u001b[39m=\u001b[39m\u001b[39mNone\u001b[39;00m, version\u001b[39m=\u001b[39m\u001b[39m'\u001b[39m\u001b[39m1.1\u001b[39m\u001b[39m'\u001b[39m):\n\u001b[0;32m    278\u001b[0m     \u001b[39m\"\"\"Shortcut for GET requests via :class:`request`\"\"\"\u001b[39;00m\n\u001b[1;32m--> 279\u001b[0m     \u001b[39mreturn\u001b[39;00m \u001b[39mself\u001b[39;49m\u001b[39m.\u001b[39;49mrequest(endpoint, params\u001b[39m=\u001b[39;49mparams, version\u001b[39m=\u001b[39;49mversion)\n",
      "File \u001b[1;32mc:\\Users\\user\\anaconda3\\lib\\site-packages\\twython\\api.py:272\u001b[0m, in \u001b[0;36mTwython.request\u001b[1;34m(self, endpoint, method, params, version, json_encoded)\u001b[0m\n\u001b[0;32m    269\u001b[0m \u001b[39melse\u001b[39;00m:\n\u001b[0;32m    270\u001b[0m     url \u001b[39m=\u001b[39m \u001b[39m'\u001b[39m\u001b[39m%s\u001b[39;00m\u001b[39m/\u001b[39m\u001b[39m%s\u001b[39;00m\u001b[39m.json\u001b[39m\u001b[39m'\u001b[39m \u001b[39m%\u001b[39m (\u001b[39mself\u001b[39m\u001b[39m.\u001b[39mapi_url \u001b[39m%\u001b[39m version, endpoint)\n\u001b[1;32m--> 272\u001b[0m content \u001b[39m=\u001b[39m \u001b[39mself\u001b[39;49m\u001b[39m.\u001b[39;49m_request(url, method\u001b[39m=\u001b[39;49mmethod, params\u001b[39m=\u001b[39;49mparams,\n\u001b[0;32m    273\u001b[0m                         api_call\u001b[39m=\u001b[39;49murl, json_encoded\u001b[39m=\u001b[39;49mjson_encoded)\n\u001b[0;32m    275\u001b[0m \u001b[39mreturn\u001b[39;00m content\n",
      "File \u001b[1;32mc:\\Users\\user\\anaconda3\\lib\\site-packages\\twython\\api.py:202\u001b[0m, in \u001b[0;36mTwython._request\u001b[1;34m(self, url, method, params, api_call, json_encoded)\u001b[0m\n\u001b[0;32m    195\u001b[0m     \u001b[39melif\u001b[39;00m response\u001b[39m.\u001b[39mstatus_code \u001b[39m==\u001b[39m \u001b[39m401\u001b[39m \u001b[39mor\u001b[39;00m \u001b[39m'\u001b[39m\u001b[39mBad Authentication data\u001b[39m\u001b[39m'\u001b[39m \\\n\u001b[0;32m    196\u001b[0m             \u001b[39min\u001b[39;00m error_message:\n\u001b[0;32m    197\u001b[0m         \u001b[39m# Twitter API 1.1, returns a 401 Unauthorized or\u001b[39;00m\n\u001b[0;32m    198\u001b[0m         \u001b[39m# a 400 \"Bad Authentication data\" for invalid/expired\u001b[39;00m\n\u001b[0;32m    199\u001b[0m         \u001b[39m# app keys/user tokens\u001b[39;00m\n\u001b[0;32m    200\u001b[0m         ExceptionType \u001b[39m=\u001b[39m TwythonAuthError\n\u001b[1;32m--> 202\u001b[0m     \u001b[39mraise\u001b[39;00m ExceptionType(\n\u001b[0;32m    203\u001b[0m         error_message,\n\u001b[0;32m    204\u001b[0m         error_code\u001b[39m=\u001b[39mresponse\u001b[39m.\u001b[39mstatus_code,\n\u001b[0;32m    205\u001b[0m         retry_after\u001b[39m=\u001b[39mresponse\u001b[39m.\u001b[39mheaders\u001b[39m.\u001b[39mget(\u001b[39m'\u001b[39m\u001b[39mX-Rate-Limit-Reset\u001b[39m\u001b[39m'\u001b[39m))\n\u001b[0;32m    206\u001b[0m content \u001b[39m=\u001b[39m \u001b[39m'\u001b[39m\u001b[39m'\u001b[39m\n\u001b[0;32m    207\u001b[0m \u001b[39mtry\u001b[39;00m:\n",
      "\u001b[1;31mTwythonAuthError\u001b[0m: Twitter API returned a 400 (Bad Request), Bad Authentication data."
     ]
    }
   ],
   "source": [
    "tw = adv.twitter.search(q='#confirmed', count = 100, tweet_mode='extended',lang='en')"
   ]
  },
  {
   "cell_type": "code",
   "execution_count": 6,
   "metadata": {},
   "outputs": [],
   "source": [
    "def send_alert(emailmessage, method):\n",
    "    if method == 1:\n",
    "        body = emailmessage\n",
    "        yag = yagmail.SMTP(\"nrainer001@gmail.com\")\n",
    "        yag.send(\n",
    "            to=\"nree254@outlook.com\",\n",
    "            subject=\"Twitter Alert\",\n",
    "            contents=body)\n",
    "        print(\"Email sent\")\n",
    "    if method == 0:\n",
    "        resp = requests.post('https://textbelt.com/text', {\n",
    "        'phone': '+254746217838',\n",
    "        'message': twitterhandle + \" tweeted out: \" + tweet,\n",
    "        'key': '',\n",
    "        })\n",
    "        print(resp.json())"
   ]
  },
  {
   "cell_type": "code",
   "execution_count": 7,
   "metadata": {},
   "outputs": [],
   "source": [
    "today = str(date.today())\n",
    "adv.twitter.set_auth_params(**auth_params)"
   ]
  },
  {
   "cell_type": "code",
   "execution_count": 8,
   "metadata": {},
   "outputs": [],
   "source": [
    "alerts_list = {\"searchliaison\":\"core|update|algorithm\",\"googlesearchc\":\"search/sconsole\"} \n",
    "df1 = pd.DataFrame(columns = ['TwitterHandle', 'Message'])"
   ]
  },
  {
   "cell_type": "code",
   "execution_count": 9,
   "metadata": {},
   "outputs": [
    {
     "name": "stderr",
     "output_type": "stream",
     "text": [
      "2022-11-01 15:45:44,823 | INFO | twitter.py:246 | wrapper | get_user_timeline | Requesting: count=200, max_id=None, screen_name=searchliaison, tweet_mode=extended\n"
     ]
    },
    {
     "ename": "TwythonAuthError",
     "evalue": "Twitter API returned a 400 (Bad Request), Bad Authentication data.",
     "output_type": "error",
     "traceback": [
      "\u001b[1;31m---------------------------------------------------------------------------\u001b[0m",
      "\u001b[1;31mTwythonAuthError\u001b[0m                          Traceback (most recent call last)",
      "\u001b[1;32mc:\\Users\\user\\Documents\\Personal\\Twitter-Tweet-Alert-System\\tweet_alert.ipynb Cell 7\u001b[0m in \u001b[0;36m<cell line: 1>\u001b[1;34m()\u001b[0m\n\u001b[0;32m      <a href='vscode-notebook-cell:/c%3A/Users/user/Documents/Personal/Twitter-Tweet-Alert-System/tweet_alert.ipynb#W5sZmlsZQ%3D%3D?line=0'>1</a>\u001b[0m \u001b[39mfor\u001b[39;00m keys,values \u001b[39min\u001b[39;00m alerts_list\u001b[39m.\u001b[39mitems():\n\u001b[1;32m----> <a href='vscode-notebook-cell:/c%3A/Users/user/Documents/Personal/Twitter-Tweet-Alert-System/tweet_alert.ipynb#W5sZmlsZQ%3D%3D?line=1'>2</a>\u001b[0m   df \u001b[39m=\u001b[39m adv\u001b[39m.\u001b[39;49mtwitter\u001b[39m.\u001b[39;49mget_user_timeline(screen_name\u001b[39m=\u001b[39;49mkeys,tweet_mode\u001b[39m=\u001b[39;49m\u001b[39m\"\u001b[39;49m\u001b[39mextended\u001b[39;49m\u001b[39m\"\u001b[39;49m)\n",
      "File \u001b[1;32mc:\\Users\\user\\anaconda3\\lib\\site-packages\\advertools\\twitter.py:250\u001b[0m, in \u001b[0;36mmake_dataframe.<locals>.wrapper\u001b[1;34m(count, max_id, *args, **kwargs)\u001b[0m\n\u001b[0;32m    245\u001b[0m     args_log \u001b[39m=\u001b[39m \u001b[39m'\u001b[39m\u001b[39m, \u001b[39m\u001b[39m'\u001b[39m\u001b[39m.\u001b[39mjoin(args)\n\u001b[0;32m    246\u001b[0m     logging\u001b[39m.\u001b[39minfo(msg\u001b[39m=\u001b[39mfname \u001b[39m+\u001b[39m \u001b[39m'\u001b[39m\u001b[39m | \u001b[39m\u001b[39m'\u001b[39m \u001b[39m+\u001b[39m \u001b[39m'\u001b[39m\u001b[39mRequesting: \u001b[39m\u001b[39m'\u001b[39m \u001b[39m+\u001b[39m\n\u001b[0;32m    247\u001b[0m                  \u001b[39m'\u001b[39m\u001b[39mcount=\u001b[39m\u001b[39m'\u001b[39m \u001b[39m+\u001b[39m \u001b[39mstr\u001b[39m(count) \u001b[39m+\u001b[39m \u001b[39m'\u001b[39m\u001b[39m, max_id=\u001b[39m\u001b[39m'\u001b[39m \u001b[39m+\u001b[39m\n\u001b[0;32m    248\u001b[0m                  \u001b[39mstr\u001b[39m(max_id) \u001b[39m+\u001b[39m \u001b[39m'\u001b[39m\u001b[39m, \u001b[39m\u001b[39m'\u001b[39m \u001b[39m+\u001b[39m kwargs_log \u001b[39m+\u001b[39m args_log)\n\u001b[1;32m--> 250\u001b[0m     resp \u001b[39m=\u001b[39m func(count\u001b[39m=\u001b[39mcount,\n\u001b[0;32m    251\u001b[0m                 max_id\u001b[39m=\u001b[39mmax_id,\n\u001b[0;32m    252\u001b[0m                 cursor\u001b[39m=\u001b[39mcursor,\n\u001b[0;32m    253\u001b[0m                 \u001b[39m*\u001b[39margs, \u001b[39m*\u001b[39m\u001b[39m*\u001b[39mkwargs)\n\u001b[0;32m    254\u001b[0m     responses\u001b[39m.\u001b[39mappend(resp)\n\u001b[0;32m    256\u001b[0m \u001b[39mif\u001b[39;00m \u001b[39m'\u001b[39m\u001b[39m_ids\u001b[39m\u001b[39m'\u001b[39m \u001b[39min\u001b[39;00m fname:\n",
      "File \u001b[1;32mc:\\Users\\user\\anaconda3\\lib\\site-packages\\twython\\endpoints.py:51\u001b[0m, in \u001b[0;36mEndpointsMixin.get_user_timeline\u001b[1;34m(self, **params)\u001b[0m\n\u001b[0;32m     43\u001b[0m \u001b[39mdef\u001b[39;00m \u001b[39mget_user_timeline\u001b[39m(\u001b[39mself\u001b[39m, \u001b[39m*\u001b[39m\u001b[39m*\u001b[39mparams):\n\u001b[0;32m     44\u001b[0m     \u001b[39m\"\"\"Returns a collection of the most recent Tweets posted by the user\u001b[39;00m\n\u001b[0;32m     45\u001b[0m \u001b[39m    indicated by the ``screen_name`` or ``user_id`` parameters.\u001b[39;00m\n\u001b[0;32m     46\u001b[0m \n\u001b[1;32m   (...)\u001b[0m\n\u001b[0;32m     49\u001b[0m \n\u001b[0;32m     50\u001b[0m \u001b[39m    \"\"\"\u001b[39;00m\n\u001b[1;32m---> 51\u001b[0m     \u001b[39mreturn\u001b[39;00m \u001b[39mself\u001b[39;49m\u001b[39m.\u001b[39;49mget(\u001b[39m'\u001b[39;49m\u001b[39mstatuses/user_timeline\u001b[39;49m\u001b[39m'\u001b[39;49m, params\u001b[39m=\u001b[39;49mparams)\n",
      "File \u001b[1;32mc:\\Users\\user\\anaconda3\\lib\\site-packages\\twython\\api.py:279\u001b[0m, in \u001b[0;36mTwython.get\u001b[1;34m(self, endpoint, params, version)\u001b[0m\n\u001b[0;32m    277\u001b[0m \u001b[39mdef\u001b[39;00m \u001b[39mget\u001b[39m(\u001b[39mself\u001b[39m, endpoint, params\u001b[39m=\u001b[39m\u001b[39mNone\u001b[39;00m, version\u001b[39m=\u001b[39m\u001b[39m'\u001b[39m\u001b[39m1.1\u001b[39m\u001b[39m'\u001b[39m):\n\u001b[0;32m    278\u001b[0m     \u001b[39m\"\"\"Shortcut for GET requests via :class:`request`\"\"\"\u001b[39;00m\n\u001b[1;32m--> 279\u001b[0m     \u001b[39mreturn\u001b[39;00m \u001b[39mself\u001b[39;49m\u001b[39m.\u001b[39;49mrequest(endpoint, params\u001b[39m=\u001b[39;49mparams, version\u001b[39m=\u001b[39;49mversion)\n",
      "File \u001b[1;32mc:\\Users\\user\\anaconda3\\lib\\site-packages\\twython\\api.py:272\u001b[0m, in \u001b[0;36mTwython.request\u001b[1;34m(self, endpoint, method, params, version, json_encoded)\u001b[0m\n\u001b[0;32m    269\u001b[0m \u001b[39melse\u001b[39;00m:\n\u001b[0;32m    270\u001b[0m     url \u001b[39m=\u001b[39m \u001b[39m'\u001b[39m\u001b[39m%s\u001b[39;00m\u001b[39m/\u001b[39m\u001b[39m%s\u001b[39;00m\u001b[39m.json\u001b[39m\u001b[39m'\u001b[39m \u001b[39m%\u001b[39m (\u001b[39mself\u001b[39m\u001b[39m.\u001b[39mapi_url \u001b[39m%\u001b[39m version, endpoint)\n\u001b[1;32m--> 272\u001b[0m content \u001b[39m=\u001b[39m \u001b[39mself\u001b[39;49m\u001b[39m.\u001b[39;49m_request(url, method\u001b[39m=\u001b[39;49mmethod, params\u001b[39m=\u001b[39;49mparams,\n\u001b[0;32m    273\u001b[0m                         api_call\u001b[39m=\u001b[39;49murl, json_encoded\u001b[39m=\u001b[39;49mjson_encoded)\n\u001b[0;32m    275\u001b[0m \u001b[39mreturn\u001b[39;00m content\n",
      "File \u001b[1;32mc:\\Users\\user\\anaconda3\\lib\\site-packages\\twython\\api.py:202\u001b[0m, in \u001b[0;36mTwython._request\u001b[1;34m(self, url, method, params, api_call, json_encoded)\u001b[0m\n\u001b[0;32m    195\u001b[0m     \u001b[39melif\u001b[39;00m response\u001b[39m.\u001b[39mstatus_code \u001b[39m==\u001b[39m \u001b[39m401\u001b[39m \u001b[39mor\u001b[39;00m \u001b[39m'\u001b[39m\u001b[39mBad Authentication data\u001b[39m\u001b[39m'\u001b[39m \\\n\u001b[0;32m    196\u001b[0m             \u001b[39min\u001b[39;00m error_message:\n\u001b[0;32m    197\u001b[0m         \u001b[39m# Twitter API 1.1, returns a 401 Unauthorized or\u001b[39;00m\n\u001b[0;32m    198\u001b[0m         \u001b[39m# a 400 \"Bad Authentication data\" for invalid/expired\u001b[39;00m\n\u001b[0;32m    199\u001b[0m         \u001b[39m# app keys/user tokens\u001b[39;00m\n\u001b[0;32m    200\u001b[0m         ExceptionType \u001b[39m=\u001b[39m TwythonAuthError\n\u001b[1;32m--> 202\u001b[0m     \u001b[39mraise\u001b[39;00m ExceptionType(\n\u001b[0;32m    203\u001b[0m         error_message,\n\u001b[0;32m    204\u001b[0m         error_code\u001b[39m=\u001b[39mresponse\u001b[39m.\u001b[39mstatus_code,\n\u001b[0;32m    205\u001b[0m         retry_after\u001b[39m=\u001b[39mresponse\u001b[39m.\u001b[39mheaders\u001b[39m.\u001b[39mget(\u001b[39m'\u001b[39m\u001b[39mX-Rate-Limit-Reset\u001b[39m\u001b[39m'\u001b[39m))\n\u001b[0;32m    206\u001b[0m content \u001b[39m=\u001b[39m \u001b[39m'\u001b[39m\u001b[39m'\u001b[39m\n\u001b[0;32m    207\u001b[0m \u001b[39mtry\u001b[39;00m:\n",
      "\u001b[1;31mTwythonAuthError\u001b[0m: Twitter API returned a 400 (Bad Request), Bad Authentication data."
     ]
    }
   ],
   "source": [
    "for keys,values in alerts_list.items():\n",
    "  df = adv.twitter.get_user_timeline(screen_name=keys,tweet_mode=\"extended\")"
   ]
  },
  {
   "cell_type": "code",
   "execution_count": 16,
   "metadata": {},
   "outputs": [
    {
     "data": {
      "text/html": [
       "<div>\n",
       "<style scoped>\n",
       "    .dataframe tbody tr th:only-of-type {\n",
       "        vertical-align: middle;\n",
       "    }\n",
       "\n",
       "    .dataframe tbody tr th {\n",
       "        vertical-align: top;\n",
       "    }\n",
       "\n",
       "    .dataframe thead th {\n",
       "        text-align: right;\n",
       "    }\n",
       "</style>\n",
       "<table border=\"1\" class=\"dataframe\">\n",
       "  <thead>\n",
       "    <tr style=\"text-align: right;\">\n",
       "      <th></th>\n",
       "      <th>tweet_created_at</th>\n",
       "      <th>tweet_id</th>\n",
       "      <th>tweet_id_str</th>\n",
       "      <th>tweet_full_text</th>\n",
       "      <th>tweet_truncated</th>\n",
       "      <th>tweet_display_text_range</th>\n",
       "      <th>tweet_entities</th>\n",
       "      <th>tweet_entities_mentions</th>\n",
       "      <th>tweet_entities_hashtags</th>\n",
       "      <th>tweet_entities_urls</th>\n",
       "      <th>...</th>\n",
       "      <th>user_profile_use_background_image</th>\n",
       "      <th>user_has_extended_profile</th>\n",
       "      <th>user_default_profile</th>\n",
       "      <th>user_default_profile_image</th>\n",
       "      <th>user_following</th>\n",
       "      <th>user_follow_request_sent</th>\n",
       "      <th>user_notifications</th>\n",
       "      <th>user_translator_type</th>\n",
       "      <th>user_withheld_in_countries</th>\n",
       "      <th>tweet_source_url</th>\n",
       "    </tr>\n",
       "  </thead>\n",
       "  <tbody>\n",
       "    <tr>\n",
       "      <th>0</th>\n",
       "      <td>2022-10-31 16:57:05+00:00</td>\n",
       "      <td>1587126523945013248</td>\n",
       "      <td>1587126523945013248</td>\n",
       "      <td>If you want your product web pages to standout...</td>\n",
       "      <td>False</td>\n",
       "      <td>[0, 117]</td>\n",
       "      <td>{'hashtags': [], 'symbols': [], 'user_mentions...</td>\n",
       "      <td></td>\n",
       "      <td></td>\n",
       "      <td>https://goo.gle/3zuXKbH</td>\n",
       "      <td>...</td>\n",
       "      <td>True</td>\n",
       "      <td>False</td>\n",
       "      <td>False</td>\n",
       "      <td>False</td>\n",
       "      <td>False</td>\n",
       "      <td>False</td>\n",
       "      <td>False</td>\n",
       "      <td>none</td>\n",
       "      <td>[]</td>\n",
       "      <td>https://www.sprinklr.com</td>\n",
       "    </tr>\n",
       "    <tr>\n",
       "      <th>1</th>\n",
       "      <td>2022-10-26 13:30:01+00:00</td>\n",
       "      <td>1585262476618350601</td>\n",
       "      <td>1585262476618350601</td>\n",
       "      <td>Hashtags in URL's... does Google ignore them? ...</td>\n",
       "      <td>False</td>\n",
       "      <td>[0, 203]</td>\n",
       "      <td>{'hashtags': [{'text': 'JavaScript', 'indices'...</td>\n",
       "      <td>@JohnMu</td>\n",
       "      <td>#JavaScript, #AskGoogleBot</td>\n",
       "      <td>http://goo.gle/3VUOcQV</td>\n",
       "      <td>...</td>\n",
       "      <td>True</td>\n",
       "      <td>False</td>\n",
       "      <td>False</td>\n",
       "      <td>False</td>\n",
       "      <td>False</td>\n",
       "      <td>False</td>\n",
       "      <td>False</td>\n",
       "      <td>none</td>\n",
       "      <td>[]</td>\n",
       "      <td>https://www.sprinklr.com</td>\n",
       "    </tr>\n",
       "    <tr>\n",
       "      <th>2</th>\n",
       "      <td>2022-10-21 13:19:20+00:00</td>\n",
       "      <td>1583447847474630656</td>\n",
       "      <td>1583447847474630656</td>\n",
       "      <td>This month's questions came from @amitsh053, @...</td>\n",
       "      <td>False</td>\n",
       "      <td>[0, 178]</td>\n",
       "      <td>{'hashtags': [], 'symbols': [], 'user_mentions...</td>\n",
       "      <td>@amitsh053, @Bruroar, @dakswang, @HebaSaidSEO,...</td>\n",
       "      <td></td>\n",
       "      <td></td>\n",
       "      <td>...</td>\n",
       "      <td>True</td>\n",
       "      <td>False</td>\n",
       "      <td>False</td>\n",
       "      <td>False</td>\n",
       "      <td>False</td>\n",
       "      <td>False</td>\n",
       "      <td>False</td>\n",
       "      <td>none</td>\n",
       "      <td>[]</td>\n",
       "      <td>https://mobile.twitter.com</td>\n",
       "    </tr>\n",
       "    <tr>\n",
       "      <th>3</th>\n",
       "      <td>2022-10-21 13:19:19+00:00</td>\n",
       "      <td>1583447844803211267</td>\n",
       "      <td>1583447844803211267</td>\n",
       "      <td>Want to submit your question for the next vers...</td>\n",
       "      <td>False</td>\n",
       "      <td>[0, 182]</td>\n",
       "      <td>{'hashtags': [], 'symbols': [], 'user_mentions...</td>\n",
       "      <td></td>\n",
       "      <td></td>\n",
       "      <td>https://forms.gle/Ba685cc5xjJbR8r28</td>\n",
       "      <td>...</td>\n",
       "      <td>True</td>\n",
       "      <td>False</td>\n",
       "      <td>False</td>\n",
       "      <td>False</td>\n",
       "      <td>False</td>\n",
       "      <td>False</td>\n",
       "      <td>False</td>\n",
       "      <td>none</td>\n",
       "      <td>[]</td>\n",
       "      <td>https://mobile.twitter.com</td>\n",
       "    </tr>\n",
       "    <tr>\n",
       "      <th>4</th>\n",
       "      <td>2022-10-21 13:19:18+00:00</td>\n",
       "      <td>1583447840616894464</td>\n",
       "      <td>1583447840616894464</td>\n",
       "      <td>Thanks to everyone who submitted questions for...</td>\n",
       "      <td>False</td>\n",
       "      <td>[0, 199]</td>\n",
       "      <td>{'hashtags': [], 'symbols': [], 'user_mentions...</td>\n",
       "      <td></td>\n",
       "      <td></td>\n",
       "      <td>https://youtu.be/FtJhOrE0lxo</td>\n",
       "      <td>...</td>\n",
       "      <td>True</td>\n",
       "      <td>False</td>\n",
       "      <td>False</td>\n",
       "      <td>False</td>\n",
       "      <td>False</td>\n",
       "      <td>False</td>\n",
       "      <td>False</td>\n",
       "      <td>none</td>\n",
       "      <td>[]</td>\n",
       "      <td>https://mobile.twitter.com</td>\n",
       "    </tr>\n",
       "  </tbody>\n",
       "</table>\n",
       "<p>5 rows × 80 columns</p>\n",
       "</div>"
      ],
      "text/plain": [
       "           tweet_created_at             tweet_id         tweet_id_str  \\\n",
       "0 2022-10-31 16:57:05+00:00  1587126523945013248  1587126523945013248   \n",
       "1 2022-10-26 13:30:01+00:00  1585262476618350601  1585262476618350601   \n",
       "2 2022-10-21 13:19:20+00:00  1583447847474630656  1583447847474630656   \n",
       "3 2022-10-21 13:19:19+00:00  1583447844803211267  1583447844803211267   \n",
       "4 2022-10-21 13:19:18+00:00  1583447840616894464  1583447840616894464   \n",
       "\n",
       "                                     tweet_full_text  tweet_truncated  \\\n",
       "0  If you want your product web pages to standout...            False   \n",
       "1  Hashtags in URL's... does Google ignore them? ...            False   \n",
       "2  This month's questions came from @amitsh053, @...            False   \n",
       "3  Want to submit your question for the next vers...            False   \n",
       "4  Thanks to everyone who submitted questions for...            False   \n",
       "\n",
       "  tweet_display_text_range                                     tweet_entities  \\\n",
       "0                 [0, 117]  {'hashtags': [], 'symbols': [], 'user_mentions...   \n",
       "1                 [0, 203]  {'hashtags': [{'text': 'JavaScript', 'indices'...   \n",
       "2                 [0, 178]  {'hashtags': [], 'symbols': [], 'user_mentions...   \n",
       "3                 [0, 182]  {'hashtags': [], 'symbols': [], 'user_mentions...   \n",
       "4                 [0, 199]  {'hashtags': [], 'symbols': [], 'user_mentions...   \n",
       "\n",
       "                             tweet_entities_mentions  \\\n",
       "0                                                      \n",
       "1                                            @JohnMu   \n",
       "2  @amitsh053, @Bruroar, @dakswang, @HebaSaidSEO,...   \n",
       "3                                                      \n",
       "4                                                      \n",
       "\n",
       "      tweet_entities_hashtags                  tweet_entities_urls  ...  \\\n",
       "0                                          https://goo.gle/3zuXKbH  ...   \n",
       "1  #JavaScript, #AskGoogleBot               http://goo.gle/3VUOcQV  ...   \n",
       "2                                                                   ...   \n",
       "3                              https://forms.gle/Ba685cc5xjJbR8r28  ...   \n",
       "4                                     https://youtu.be/FtJhOrE0lxo  ...   \n",
       "\n",
       "  user_profile_use_background_image user_has_extended_profile  \\\n",
       "0                              True                     False   \n",
       "1                              True                     False   \n",
       "2                              True                     False   \n",
       "3                              True                     False   \n",
       "4                              True                     False   \n",
       "\n",
       "  user_default_profile  user_default_profile_image user_following  \\\n",
       "0                False                       False          False   \n",
       "1                False                       False          False   \n",
       "2                False                       False          False   \n",
       "3                False                       False          False   \n",
       "4                False                       False          False   \n",
       "\n",
       "   user_follow_request_sent user_notifications user_translator_type  \\\n",
       "0                     False              False                 none   \n",
       "1                     False              False                 none   \n",
       "2                     False              False                 none   \n",
       "3                     False              False                 none   \n",
       "4                     False              False                 none   \n",
       "\n",
       "  user_withheld_in_countries            tweet_source_url  \n",
       "0                         []    https://www.sprinklr.com  \n",
       "1                         []    https://www.sprinklr.com  \n",
       "2                         []  https://mobile.twitter.com  \n",
       "3                         []  https://mobile.twitter.com  \n",
       "4                         []  https://mobile.twitter.com  \n",
       "\n",
       "[5 rows x 80 columns]"
      ]
     },
     "execution_count": 16,
     "metadata": {},
     "output_type": "execute_result"
    }
   ],
   "source": [
    "df.head()"
   ]
  },
  {
   "cell_type": "code",
   "execution_count": 17,
   "metadata": {},
   "outputs": [],
   "source": [
    "df['tweet_created_at'] = df['tweet_created_at'].astype('string') \n",
    "df = df[df['tweet_full_text'].str.contains(values,regex=True) & df['tweet_created_at'].str.contains(today)]"
   ]
  },
  {
   "cell_type": "code",
   "execution_count": 18,
   "metadata": {},
   "outputs": [],
   "source": [
    "if len(df.index) > 0:\n",
    "   df1 = df1.append({'TwitterHandle' : keys, 'Message' : df['tweet_full_text']}, ignore_index = True)"
   ]
  },
  {
   "cell_type": "code",
   "execution_count": 19,
   "metadata": {},
   "outputs": [],
   "source": [
    "getlist = dict(zip(df1['TwitterHandle'].tolist(),df1['Message'].tolist()))\n",
    "emailmessage = \"\""
   ]
  },
  {
   "cell_type": "code",
   "execution_count": 20,
   "metadata": {},
   "outputs": [],
   "source": [
    "if len(df1.index) > 0:\n",
    "    for key, value in getlist.items():\n",
    "        emailmessage += key + \": \" + value + \"\\n\\n\"\n",
    "        method = 0 \n",
    "        send_alert(emailmessage,method)"
   ]
  },
  {
   "cell_type": "code",
   "execution_count": null,
   "metadata": {},
   "outputs": [],
   "source": []
  }
 ],
 "metadata": {
  "kernelspec": {
   "display_name": "Python 3.9.12 ('base')",
   "language": "python",
   "name": "python3"
  },
  "language_info": {
   "codemirror_mode": {
    "name": "ipython",
    "version": 3
   },
   "file_extension": ".py",
   "mimetype": "text/x-python",
   "name": "python",
   "nbconvert_exporter": "python",
   "pygments_lexer": "ipython3",
   "version": "3.9.12"
  },
  "orig_nbformat": 4,
  "vscode": {
   "interpreter": {
    "hash": "a077222d77dfe082b8f1dd562ad70e458ac2ab76993a0b248ab0476e32e9e8dd"
   }
  }
 },
 "nbformat": 4,
 "nbformat_minor": 2
}
